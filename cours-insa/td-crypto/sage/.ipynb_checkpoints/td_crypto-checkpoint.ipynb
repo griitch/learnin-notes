{
 "cells": [
  {
   "cell_type": "markdown",
   "metadata": {},
   "source": [
    "# Implementation de RSA avec sage maths\n",
    "\n",
    "### GRINAT Omar Yahya\n",
    "### BEKRINE Oussama\n",
    "### 4ASTI td2\n",
    "\n",
    "Ce rapport contient le code et quelques commentaires sur la mise en œuvre du système de chiffrement asymétrique rsa que nous avons vu en cours.\n",
    "Implémenté avec Sage-mathss"
   ]
  },
  {
   "cell_type": "code",
   "execution_count": 4,
   "metadata": {},
   "outputs": [],
   "source": [
    "# Exercice 11\n",
    "\n",
    "# Algorithme d'euclide pour le calcul du pgcd\n",
    "def my_gcd(a, b) :\n",
    "    while (b != 0) :\n",
    "        tmp = b\n",
    "        b = a % b\n",
    "        a = tmp\n",
    "    return a\n",
    "\n",
    "\n",
    "# Algorithme d'euclide etendu, prend en entree deux entier, et retourne leur pgcd, et les coefficients de bezout\n",
    "def my_xgcd(_a,_b):\n",
    "\n",
    "    a = max(_a,_b)\n",
    "    b = min(_a,_b)\n",
    "\n",
    "    if b == 0:\n",
    "        return (a,1,0) if a != 0 else (0,0,0)\n",
    "    else:\n",
    "        g,u,v = my_xgcd(b, a % b)\n",
    "        return  g,v, u - (a//b)*v \n",
    "\n",
    "\n",
    "# On effectue des tests avec la fonction predefinie pour voir si tout marche comme prevu\n",
    "\n",
    "for _ in range(300):\n",
    "    j = randrange(300)\n",
    "    i = randrange(300)\n",
    "    if set(my_xgcd(i,j)) !=  set(xgcd(i,j)):\n",
    "        print(f\"fails for input {i},{j}\")\n",
    "        print(my_xgcd(i,j),xgcd(i,j))\n",
    "\n",
    "        \n",
    "# Implementation de l'exponentiation rapide\n",
    "def my_pow(b,e,n):\n",
    "    # b base, e exponent, n modulus\n",
    "    result = 1\n",
    "\n",
    "    while e > 0:\n",
    "        lastbit = e & 1\n",
    "        if lastbit == 1:\n",
    "            result = (result * b) % n\n",
    "        b = (b*b) % n\n",
    "        e = e >> 1\n",
    "    return result % n\n",
    "\n",
    "# Test exponentiation rapide \n",
    "for _ in range(300):\n",
    "    b = randrange(250)\n",
    "    e = randrange(250)\n",
    "    n = randrange(1,250)\n",
    "    if my_pow(b,e,n) != pow(b,e,n):\n",
    "        print(f\"fails for input b:{b},e:{e},n:{n}\")\n",
    "\n",
    "\n",
    "# Implemetation de isPrime en utilisant le tests de Fermat sur plusieurs base\n",
    "def my_is_prime(n):\n",
    "    if n < 8:\n",
    "        return n in [2,3,5,7]\n",
    "\n",
    "    def fermat_test(num,base):\n",
    "        return my_pow(base,n-1,n) == 1\n",
    "\n",
    "    return fermat_test(n,2) and fermat_test(n,3) and fermat_test(n,5) and  fermat_test(n,7) \n",
    "\n",
    "# Test isPrime \n",
    "for _ in range(500):\n",
    "    i = randrange(100000)\n",
    "    if my_is_prime(i) != is_prime(i): \n",
    "        print(f\"my_is_prime fails for {i}\")\n",
    "\n",
    "\n",
    "def my_next_prime(n):\n",
    "    while True:\n",
    "        n += 1\n",
    "        if my_is_prime(n):\n",
    "            return n\n",
    "\n"
   ]
  },
  {
   "cell_type": "code",
   "execution_count": 5,
   "metadata": {},
   "outputs": [],
   "source": [
    "# Exercice 12\n",
    "\n",
    "import time\n",
    "\n",
    "def test_factor() :\n",
    "    l = 8\n",
    "    x = []\n",
    "    y = []\n",
    "    datfile=open(\"data.dat\",\"a+\")\n",
    "    while(l <= 111) :\n",
    "        rq = randrange(2, 2**l)\n",
    "        q = next_prime(rq)\n",
    "        rp = randrange(2, 2**l)\n",
    "        p = next_prime(rp)\n",
    "        N = p * q\n",
    "        start = time.time()\n",
    "        factor(N)\n",
    "        stop = time.time()\n",
    "        datfile.write( f\"{l},{(stop - start) * 10**6}\\n\")        \n",
    "        l = l + 1\n",
    "\n",
    "# test_factor()"
   ]
  },
  {
   "cell_type": "markdown",
   "metadata": {},
   "source": [
    "# Commentaire \n",
    "La fonction test_factor choisit aléatoirement 2 nombres premiers p,q, puis calcule le temps nécessaire pour trouver la factorisation de leur produit, ce processus est répété 111 fois, et à chaque itération, le nombre de bits nécessaires pour représenter p et q est doublé\n",
    " "
   ]
  },
  {
   "cell_type": "code",
   "execution_count": 6,
   "metadata": {},
   "outputs": [
    {
     "data": {
      "image/png": "[encoded data removed]",
      "text/plain": [
       "<Figure size 432x288 with 1 Axes>"
      ]
     },
     "metadata": {
      "needs_background": "light"
     },
     "output_type": "display_data"
    }
   ],
   "source": [
    "\n",
    "import matplotlib.pyplot as plt\n",
    "import numpy as np\n",
    "\n",
    "plt.plotfile('data.dat', delimiter=',', cols=(0, 1), \n",
    "             names=('nombre de bits de p,q', 'temps de factorisation en ms'), marker='o')\n",
    "plt.show()"
   ]
  },
  {
   "cell_type": "markdown",
   "metadata": {},
   "source": [
    "On peut remarquer que l'évolution du temps nécessaire pour factoriser le produit de deux nombres premiers croît exponentiellement avec le nombre de bits des nombres premiers.\n",
    "Ce qu'on peut conclure est que si p et q etaient tres grands, il serait quasiment impossible de trouver leur factorisation dans un temps raisonnable. "
   ]
  },
  {
   "cell_type": "code",
   "execution_count": 7,
   "metadata": {},
   "outputs": [],
   "source": [
    "# Exercice 13 : Implementation de RSA\n",
    "import math\n",
    "\n",
    "\n",
    "def rsa_gen(l):\n",
    "    rq = randrange(2, 2**l)\n",
    "    q = next_prime(rq)\n",
    "    rp = randrange(2, 2**l)\n",
    "    p = next_prime(rp)\n",
    "    phi = (q-1)*(p-1)\n",
    "\n",
    "    e = randrange(1,phi)\n",
    "    # On va re-calculer e jusqu'a ce que e et phi soient premiers entre eux \n",
    "    while(my_gcd(e,phi) != 1): e = randrange(1,phi)\n",
    "\n",
    "    _,k,d = my_xgcd(e,phi)\n",
    "    return {\"N\" : p*q, \"e\" : e }, d%phi\n",
    "\n",
    "\n",
    "def rsa_enc(e,N,M):\n",
    "    return my_pow(M,e,N)\n",
    "\n",
    "def rsa_dec(C,d,N):\n",
    "    return my_pow(C,d,N)\n"
   ]
  },
  {
   "cell_type": "code",
   "execution_count": 8,
   "metadata": {},
   "outputs": [
    {
     "name": "stdout",
     "output_type": "stream",
     "text": [
      "Clear :  77108494589\n",
      "Cipher :  26915607374473626845717061288947290300319371184825988257089069972188290666650105389888251109814933088911746969583950159638598923642647600193222795348052698571691798234234071589237135199550594487697055535250424560852499039970780303470173777917873908138818654139311881355503165645225073324163626158577586585633\n",
      "Decrypted :  77108494589\n",
      "Clear :  99999999999999999999999999999999999\n",
      "Cipher :  26915607374473626845717061288947290300319371184825988257089069972188290666650105389888251109814933088911746969583950159638598923642647600193222795348052698571691798234234071589237135199550594487697055535250424560852499039970780303470173777917873908138818654139311881355503165645225073324163626158577586585633\n",
      "Decrypted :  99999999999999999999999999999999999\n"
     ]
    }
   ],
   "source": [
    "# TEST RSA\n",
    "pub,priv = rsa_gen(512)\n",
    "\n",
    "m1 = 77108494589\n",
    "\n",
    "print(\"Clear : \", m1)\n",
    "c1 = rsa_enc(e=pub[\"e\"],N=pub[\"N\"],M=m1)\n",
    "print(\"Cipher : \",c1)\n",
    "\n",
    "clear1 = rsa_dec(c1,priv,pub[\"N\"])\n",
    "\n",
    "print(\"Decrypted : \", clear1)\n",
    "\n",
    "m2 = 99999999999999999999999999999999999\n",
    "\n",
    "print(\"Clear : \", m2)\n",
    "c2 = rsa_enc(e=pub[\"e\"],N=pub[\"N\"],M=m2)\n",
    "print(\"Cipher : \",c1)\n",
    "\n",
    "clear2 = rsa_dec(c2,priv,pub[\"N\"])\n",
    "\n",
    "print(\"Decrypted : \", clear2)\n",
    "\n",
    "\n"
   ]
  },
  {
   "cell_type": "markdown",
   "metadata": {},
   "source": [
    "# Commentaire \n",
    "On peut remarquer que les fonctions peuvent bien chiffrer et dechiffrer les messages"
   ]
  },
  {
   "cell_type": "code",
   "execution_count": 14,
   "metadata": {},
   "outputs": [
    {
     "name": "stdout",
     "output_type": "stream",
     "text": [
      "cipher  22754236715136592490532270189263712200272968703906955828835920631828705523499546168060623696932911317919268017641969029680001795568665025771986750598164786181038463556658218644340817114968206227829424413661078918788791817960143991657038233674864844193769306064826821819120266782074247009969073517224875104147\n",
      "Clear test 123 insa cvl crypto\n"
     ]
    }
   ],
   "source": [
    "# BONUS : rsa pour du texte\n",
    "\n",
    "def text_to_int(text):\n",
    "    byte_array = bytes(text, 'utf-8')\n",
    "    return Integer(byte_array.hex(), 16)\n",
    "\n",
    "def int_to_text(n):\n",
    "    hex_str = hex(int(n))[2:]\n",
    "    return bytes.fromhex(hex_str).decode('utf-8')\n",
    "\n",
    "def rsa_enc_text(e,N,plaintext):\n",
    "    M = text_to_int(plaintext)\n",
    "    return rsa_enc(e,N,M)\n",
    "\n",
    "def rsa_dec_text(C,d,N):\n",
    "    M = rsa_dec(C,d,N)\n",
    "    return int_to_text(M)\n",
    "\n",
    "\n",
    "pub,priv = rsa_gen(512)\n",
    "\n",
    "m = \"test 123 insa cvl crypto\"\n",
    "c = rsa_enc_text(pub[\"e\"],pub[\"N\"],m)\n",
    "print(\"cipher \",c)\n",
    "\n",
    "d = rsa_dec_text(c,priv,pub[\"N\"])\n",
    "print(\"Clear\",d)\n",
    "\n"
   ]
  },
  {
   "cell_type": "markdown",
   "metadata": {},
   "source": [
    "La plupart des messages transmis que nous souhaitons chiffrer contiennent du texte et non des nombres entiers.\n",
    "Nous avons implémenté deux fonctions `int_to_text` et `text_to_int` qui transforment le texte en une série d'entiers puis les chiffrent comme un chiffrement par bloc en mode ECB.\n",
    "Bien évidemment, cette méthode n'est pas très sécurisée car le mode ECB génère le même chiffrement pour les mêmes blocs et elle peut être améliorée en utilisant des modes de chiffrement par bloc plus sécurisés tels que cbc."
   ]
  }
 ],
 "metadata": {
  "kernelspec": {
   "display_name": "SageMath 9.0",
   "language": "sage",
   "name": "sagemath"
  },
  "language_info": {
   "codemirror_mode": {
    "name": "ipython",
    "version": 3
   },
   "file_extension": ".py",
   "mimetype": "text/x-python",
   "name": "python",
   "nbconvert_exporter": "python",
   "pygments_lexer": "ipython3",
   "version": "3.8.10"
  },
  "vscode": {
   "interpreter": {
    "hash": "5b3ded1ccb95c1d9bd405e7b823d9e85424cde40fbb5985eb47e999ef50e15b4"
   }
  }
 },
 "nbformat": 4,
 "nbformat_minor": 4
}
